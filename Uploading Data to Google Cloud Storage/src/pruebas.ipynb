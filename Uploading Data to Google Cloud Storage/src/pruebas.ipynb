{
 "cells": [
  {
   "cell_type": "code",
   "execution_count": null,
   "metadata": {},
   "outputs": [],
   "source": [
    "import requests\n",
    "import header as h\n",
    "import pandas as pd\n",
    "import os\n",
    "from os import listdir\n",
    "from os.path import isfile, join"
   ]
  },
  {
   "cell_type": "code",
   "execution_count": 13,
   "metadata": {},
   "outputs": [],
   "source": [
    "# Descargar archivos de una url\n",
    "for i in range(len(h.filenames)):\n",
    "    URL = h.urls[i]\n",
    "    response = requests.get(URL)\n",
    "    open(\"./Datasets/Descarga/{}.json.gz\".format(h.filenames[i]), \"wb\").write(response.content)"
   ]
  },
  {
   "cell_type": "code",
   "execution_count": 26,
   "metadata": {},
   "outputs": [
    {
     "data": {
      "text/plain": [
       "['.gitkeep',\n",
       " 'AmazonInstantVideo.json.gz',\n",
       " 'Automotive.json.gz',\n",
       " 'Baby.json.gz',\n",
       " 'Beauty.json.gz',\n",
       " 'Books.json.gz',\n",
       " 'CDAndVinyl.json.gz',\n",
       " 'CellphonesAndAccessories.json.gz',\n",
       " 'ClothingAndShoesAndJewerly.json.gz',\n",
       " 'DigitalMusic.json.gz',\n",
       " 'Electronics.json.gz',\n",
       " 'GroceryAndGourmetFood.json.gz',\n",
       " 'HealthAndPersonalCare.json.gz',\n",
       " 'HomeAndKitchen.json.gz',\n",
       " 'MoviesAndTV.json.gz',\n",
       " 'MusicalInstruments.json.gz',\n",
       " 'Office.json.gz',\n",
       " 'PatioLawnAndGard.json.gz',\n",
       " 'PetSupplies.json.gz',\n",
       " 'SportsAndOutdoors.json.gz',\n",
       " 'ToolsAndHomeImprovement.json.gz',\n",
       " 'ToysAndGames.json.gz',\n",
       " 'VideoGames.json.gz']"
      ]
     },
     "execution_count": 26,
     "metadata": {},
     "output_type": "execute_result"
    }
   ],
   "source": [
    "onlyfiles = [f for f in listdir('./Datasets/Descarga/') if isfile(join('./Datasets/Descarga/', f))]\n",
    "onlyfiles"
   ]
  },
  {
   "cell_type": "code",
   "execution_count": 27,
   "metadata": {},
   "outputs": [
    {
     "name": "stdout",
     "output_type": "stream",
     "text": [
      "AmazonInstantVideo.json.gz Chunked!\n",
      "Automotive.json.gz Chunked!\n",
      "Baby.json.gz Chunked!\n",
      "Beauty.json.gz Chunked!\n"
     ]
    }
   ],
   "source": [
    "# Cargando archivos descargado en fragmentos csv\n",
    "for i in range(len(onlyfiles)):\n",
    "    if(onlyfiles[i]!='.gitkeep'):\n",
    "        h.getChunkDF('./Datasets/Descarga/',onlyfiles[i],500000,type = '.csv')\n",
    "        print(onlyfiles[i],'Chunked!')"
   ]
  },
  {
   "cell_type": "code",
   "execution_count": null,
   "metadata": {},
   "outputs": [],
   "source": [
    "onlyfiles = [f for f in listdir('./Datasets/CSVs/') if isfile(join('./Datasets/CSVs/', f))]\n",
    "onlyfiles"
   ]
  },
  {
   "cell_type": "code",
   "execution_count": 24,
   "metadata": {},
   "outputs": [
    {
     "data": {
      "text/plain": [
       "True"
      ]
     },
     "execution_count": 24,
     "metadata": {},
     "output_type": "execute_result"
    }
   ],
   "source": [
    "h.getChunkDF('./Datasets/Descarga/','AmazonInstantVideo.json.gz',500000,type = '.csv')"
   ]
  },
  {
   "cell_type": "code",
   "execution_count": null,
   "metadata": {},
   "outputs": [],
   "source": [
    "# Reemplazamos nulos en cada tabla\n",
    "for i in range(len(onlyfiles)):\n",
    "    if onlyfiles[i] != '.gitkeep':\n",
    "        df = h.ReemplazarNulos('./Datasets/CSVs/',onlyfiles[i])\n",
    "        df.to_csv('./Datasets/ETL/{}'.format(onlyfiles[i]),index=False)"
   ]
  },
  {
   "cell_type": "code",
   "execution_count": null,
   "metadata": {},
   "outputs": [],
   "source": [
    "onlyfiles = [f for f in listdir('./Datasets/ETL/') if isfile(join('./Datasets/ETL/', f))]\n",
    "onlyfiles"
   ]
  },
  {
   "cell_type": "code",
   "execution_count": null,
   "metadata": {},
   "outputs": [],
   "source": [
    "# Separamos columna helpful y creamos una columna Fecha\n",
    "for i in range(len(onlyfiles)):\n",
    "    if onlyfiles[i] != '.gitkeep':\n",
    "        df = h.helpful_Fecha('./Datasets/ETL/',onlyfiles[i])\n",
    "        df.to_csv('./Datasets/ETL/{}'.format(onlyfiles[i]),index=False)"
   ]
  },
  {
   "cell_type": "code",
   "execution_count": null,
   "metadata": {},
   "outputs": [],
   "source": [
    "# Cargando archivos a GCS\n",
    "# Create a new bucket\n",
    "h.create_bucket('bucket-pf-henry')\n",
    "\n",
    "# Accessing a specific bucket\n",
    "my_bucket = h.storage_client.get_bucket('bucket-pf-henry')\n",
    "\n",
    "# Listando archivos a cargar\n",
    "onlyfiles = [f for f in listdir('./Datasets/ETL/') if isfile(join('./Datasets/ETL/', f))]"
   ]
  },
  {
   "cell_type": "code",
   "execution_count": null,
   "metadata": {},
   "outputs": [],
   "source": [
    "onlyfiles"
   ]
  },
  {
   "cell_type": "code",
   "execution_count": null,
   "metadata": {},
   "outputs": [],
   "source": [
    "for i in range(len(onlyfiles)):\n",
    "    if onlyfiles[i]!='.gitkeep':\n",
    "        h.upload_to_bucket(onlyfiles[i],'./Datasets/ETL/{}'.format(onlyfiles[i]),'bucket-pf-henry')\n",
    "        print(onlyfiles[i],'uploaded!')"
   ]
  },
  {
   "cell_type": "code",
   "execution_count": null,
   "metadata": {},
   "outputs": [],
   "source": [
    "df = pd.read_csv('./Datasets/ETL/MusicalInstruments_1.csv')\n",
    "df.head(1)"
   ]
  },
  {
   "cell_type": "code",
   "execution_count": null,
   "metadata": {},
   "outputs": [],
   "source": [
    "df.dtypes"
   ]
  }
 ],
 "metadata": {
  "kernelspec": {
   "display_name": "Python 3.10.6 64-bit",
   "language": "python",
   "name": "python3"
  },
  "language_info": {
   "codemirror_mode": {
    "name": "ipython",
    "version": 3
   },
   "file_extension": ".py",
   "mimetype": "text/x-python",
   "name": "python",
   "nbconvert_exporter": "python",
   "pygments_lexer": "ipython3",
   "version": "3.10.6"
  },
  "orig_nbformat": 4,
  "vscode": {
   "interpreter": {
    "hash": "26de051ba29f2982a8de78e945f0abaf191376122a1563185a90213a26c5da77"
   }
  }
 },
 "nbformat": 4,
 "nbformat_minor": 2
}
