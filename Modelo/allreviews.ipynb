{
 "cells": [
  {
   "cell_type": "code",
   "execution_count": 1,
   "metadata": {},
   "outputs": [],
   "source": [
    "import os \n",
    "import pandas as pd"
   ]
  },
  {
   "cell_type": "code",
   "execution_count": 2,
   "metadata": {},
   "outputs": [],
   "source": [
    "amazon_instant_video = pd.read_json(\"D:/Henry/DATA-PF/archivos/Amazon_Instant_Video_5.json\", lines=True)\n",
    "apps_for_android = pd.read_json(\"D:/Henry/DATA-PF/archivos/Apps_for_Android_5.json\", lines=True)\n",
    "automotive = pd.read_json(\"D:/Henry/DATA-PF/archivos/Automotive_5.json\", lines=True)\n",
    "baby = pd.read_json(\"D:/Henry/DATA-PF/archivos/Baby_5.json\", lines=True)\n",
    "beauty = pd.read_json(\"D:/Henry/DATA-PF/archivos/Beauty_5.json\", lines=True)\n",
    "books = pd.read_json(\"D:/Henry/DATA-PF/archivos/Books_5.json\", lines=True)\n",
    "cellphones_and_accesories = pd.read_json(\"D:/Henry/DATA-PF/archivos/Cell_Phones_and_Accessories_5.json\", lines=True)\n",
    "cds_and_vinyl = pd.read_json(\"D:/Henry/DATA-PF/archivos/CDs_and_Vinyl_5.json\", lines=True)\n",
    "digital_music = pd.read_json(\"D:/Henry/DATA-PF/archivos/Digital_Music_5.json\", lines=True)\n",
    "electronics = pd.read_json(\"D:/Henry/DATA-PF/archivos/Electronics_5.json\", lines=True)\n",
    "grocery_and_gourmet_food = pd.read_json(\"D:/Henry/DATA-PF/archivos/Grocery_and_Gourmet_Food_5.json\", lines=True)\n",
    "health_and_personal_care = pd.read_json(\"D:/Henry/DATA-PF/archivos/Health_and_Personal_Care_5.json\", lines=True)\n",
    "home_and_kitchen = pd.read_json(\"D:/Henry/DATA-PF/archivos/Home_and_Kitchen_5.json\", lines=True)\n",
    "kindle_store = pd.read_json(\"D:/Henry/DATA-PF/archivos/Kindle_Store_5.json\", lines=True)\n",
    "movies_and_tv = pd.read_json(\"D:/Henry/DATA-PF/archivos/Movies_and_TV_5.json\", lines=True)\n",
    "instruments = pd.read_json(\"D:/Henry/DATA-PF/archivos/Musical_Instruments_5.json\", lines=True)\n",
    "office_products = pd.read_json(\"D:/Henry/DATA-PF/archivos/Office_Products_5.json\", lines=True)\n",
    "patio_lawn_and_garden = pd.read_json(\"D:/Henry/DATA-PF/archivos/Patio_Lawn_and_Garden_5.json\", lines=True)\n",
    "pet_supplies = pd.read_json(\"D:/Henry/DATA-PF/archivos/Pet_Supplies_5.json\", lines=True)\n",
    "sports_and_outdoors = pd.read_json(\"D:/Henry/DATA-PF/archivos/Sports_and_Outdoors_5.json\", lines=True)\n",
    "tools_and_home_improvement = pd.read_json(\"D:/Henry/DATA-PF/archivos/Tools_and_Home_Improvement_5.json\", lines=True)\n",
    "toys_and_games = pd.read_json(\"D:/Henry/DATA-PF/archivos/Toys_and_Games_5.json\", lines=True)\n",
    "clothing_shoes_and_jewerly = pd.read_json(\"D:/Henry/DATA-PF/archivos/Clothing_Shoes_and_Jewelry_5.json\", lines=True)\n",
    "video_Games = pd.read_json(\"D:/Henry/DATA-PF/archivos/Video_Games_5.json\", lines=True)"
   ]
  },
  {
   "cell_type": "code",
   "execution_count": 4,
   "metadata": {},
   "outputs": [],
   "source": [
    "amazon_instant_video['categoryN']=1\n",
    "amazon_instant_video['category']='amazon_instant_video'\n",
    "\n",
    "apps_for_android['categoryN']=2\n",
    "apps_for_android['category']='Software'\n",
    "\n",
    "automotive['categoryN']=3\n",
    "automotive['category']='Automotive'\n",
    "\n",
    "baby['categoryN']=4\n",
    "baby['category']='Baby'\n",
    "\n",
    "beauty['categoryN']=5\n",
    "beauty['category']='Beauty'\n",
    "\n",
    "books['categoryN']=6\n",
    "books['category']='Books'\n",
    "\n",
    "cellphones_and_accesories['categoryN']=7\n",
    "cellphones_and_accesories['category']='Cell Phones & Accessories'\n",
    "\n",
    "cds_and_vinyl['categoryN']=8\n",
    "cds_and_vinyl['category']='cds_and_vinyl'\n",
    "\n",
    "digital_music['categoryN']=9\n",
    "digital_music['category']='Music'\n",
    "\n",
    "electronics['categoryN']=10\n",
    "electronics['category']='Electronics'\n",
    "\n",
    "grocery_and_gourmet_food['categoryN']=11\n",
    "grocery_and_gourmet_food['category']='Grocery & Gourmet Food'\n",
    "\n",
    "health_and_personal_care['categoryN']=12\n",
    "health_and_personal_care['category']='Health & Personal Care'\n",
    "\n",
    "home_and_kitchen['categoryN']=13\n",
    "home_and_kitchen['category']='Home &amp; Kitchen'\n",
    "\n",
    "kindle_store['categoryN']=14\n",
    "kindle_store['category']='kindle_store'\n",
    "\n",
    "movies_and_tv['categoryN']=15\n",
    "movies_and_tv['category']='Movies & TV'\n",
    "\n",
    "instruments['categoryN']=16\n",
    "instruments['category']='Musical Instruments'\n",
    "\n",
    "office_products['categoryN']=17\n",
    "office_products['category']='Office Products'\n",
    "\n",
    "patio_lawn_and_garden['categoryN']=18\n",
    "patio_lawn_and_garden['category']='Patio, Lawn & Garden'\n",
    "\n",
    "pet_supplies['categoryN']=19\n",
    "pet_supplies['category']='Pet Supplies'\n",
    "\n",
    "sports_and_outdoors['categoryN']=20\n",
    "sports_and_outdoors['category']='Sports &amp; Outdoors'\n",
    "\n",
    "tools_and_home_improvement['categoryN']=21\n",
    "tools_and_home_improvement['category']='Home Improvement'\n",
    "\n",
    "toys_and_games['categoryN']=22\n",
    "toys_and_games['category']='Toys & Games'\n",
    "\n",
    "clothing_shoes_and_jewerly['categoryN']=23\n",
    "clothing_shoes_and_jewerly['category']='Clothing'\n",
    "\n",
    "video_Games['categoryN']=24\n",
    "video_Games['category']='Video Games'"
   ]
  },
  {
   "cell_type": "code",
   "execution_count": 5,
   "metadata": {},
   "outputs": [],
   "source": [
    "list_categorys= [amazon_instant_video,apps_for_android,automotive,baby,beauty,books,cellphones_and_accesories,cds_and_vinyl,digital_music,electronics,grocery_and_gourmet_food,health_and_personal_care,home_and_kitchen,kindle_store,movies_and_tv,instruments,office_products,patio_lawn_and_garden,pet_supplies,sports_and_outdoors,tools_and_home_improvement,toys_and_games,clothing_shoes_and_jewerly,video_Games]\n",
    "result = pd.concat([amazon_instant_video,apps_for_android,automotive,baby,beauty,books,cellphones_and_accesories,cds_and_vinyl,digital_music,electronics,grocery_and_gourmet_food,health_and_personal_care,home_and_kitchen,kindle_store,movies_and_tv,instruments,office_products,patio_lawn_and_garden,pet_supplies,sports_and_outdoors,tools_and_home_improvement,toys_and_games,clothing_shoes_and_jewerly,video_Games])"
   ]
  },
  {
   "cell_type": "code",
   "execution_count": 3,
   "metadata": {},
   "outputs": [],
   "source": [
    "result = pd.read_csv('../../archivos_csv/reviewLORD.csv')"
   ]
  },
  {
   "cell_type": "code",
   "execution_count": 4,
   "metadata": {},
   "outputs": [],
   "source": [
    "resultML = result.copy()"
   ]
  },
  {
   "cell_type": "code",
   "execution_count": 17,
   "metadata": {},
   "outputs": [],
   "source": [
    "resultML.drop(columns=['Unnamed: 0','reviewerName','helpful','reviewText','summary','unixReviewTime','reviewTime','category'],inplace=True)"
   ]
  },
  {
   "cell_type": "code",
   "execution_count": 19,
   "metadata": {},
   "outputs": [],
   "source": [
    "resultML.to_csv('../../archivos_csv/MLreview.csv')"
   ]
  },
  {
   "cell_type": "code",
   "execution_count": 17,
   "metadata": {},
   "outputs": [],
   "source": [
    "result.head(3).to_csv('../../archivos_csv/reviewLORDmini.csv')"
   ]
  },
  {
   "cell_type": "code",
   "execution_count": 9,
   "metadata": {},
   "outputs": [
    {
     "data": {
      "text/plain": [
       "Unnamed: 0         int64\n",
       "reviewerID        object\n",
       "asin              object\n",
       "reviewerName      object\n",
       "helpful           object\n",
       "reviewText        object\n",
       "overall            int64\n",
       "summary           object\n",
       "unixReviewTime     int64\n",
       "reviewTime        object\n",
       "categoryN          int64\n",
       "category          object\n",
       "dtype: object"
      ]
     },
     "execution_count": 9,
     "metadata": {},
     "output_type": "execute_result"
    }
   ],
   "source": [
    "result.dtypes"
   ]
  },
  {
   "cell_type": "code",
   "execution_count": 5,
   "metadata": {},
   "outputs": [],
   "source": [
    "df = result.astype({'reviewerID': 'str', 'asin': 'str','reviewerName':'str','helpful':'str','reviewText':'str','overall':'int','summary':'str','unixReviewTime':'int','reviewTime':'str','categoryN':'int','category':'str' })"
   ]
  },
  {
   "cell_type": "code",
   "execution_count": 9,
   "metadata": {},
   "outputs": [],
   "source": [
    "from google.cloud import bigquery\n",
    "import os\n",
    "\n",
    "credentials_path = 'D:/Henry/DATA-PF/PF-DATASCIENCE/Modelo/credentials.json'\n",
    "os.environ['GOOGLE_APPLICATION_CREDENTIALS'] = credentials_path"
   ]
  },
  {
   "cell_type": "code",
   "execution_count": null,
   "metadata": {},
   "outputs": [],
   "source": [
    "import pandas as pd\n",
    "from pandas.io import gbq\n",
    "from google.cloud import bigquery\n",
    "import os\n",
    "\n",
    "credentials_path = 'D:/Henry/DATA-PF/PF-DATASCIENCE/Modelo/credentials.json'\n",
    "os.environ['GOOGLE_APPLICATION_CREDENTIALS'] = credentials_path\n"
   ]
  },
  {
   "cell_type": "code",
   "execution_count": 21,
   "metadata": {},
   "outputs": [],
   "source": [
    "size = 1000000\n",
    "list_of_dfs = [df.loc[i: i + size - 1,: ] for i in range(0, len(df), size)]"
   ]
  },
  {
   "cell_type": "code",
   "execution_count": 28,
   "metadata": {},
   "outputs": [
    {
     "data": {
      "text/html": [
       "<div>\n",
       "<style scoped>\n",
       "    .dataframe tbody tr th:only-of-type {\n",
       "        vertical-align: middle;\n",
       "    }\n",
       "\n",
       "    .dataframe tbody tr th {\n",
       "        vertical-align: top;\n",
       "    }\n",
       "\n",
       "    .dataframe thead th {\n",
       "        text-align: right;\n",
       "    }\n",
       "</style>\n",
       "<table border=\"1\" class=\"dataframe\">\n",
       "  <thead>\n",
       "    <tr style=\"text-align: right;\">\n",
       "      <th></th>\n",
       "      <th>reviewerID</th>\n",
       "      <th>asin</th>\n",
       "      <th>reviewerName</th>\n",
       "      <th>helpful</th>\n",
       "      <th>reviewText</th>\n",
       "      <th>overall</th>\n",
       "      <th>summary</th>\n",
       "      <th>unixReviewTime</th>\n",
       "      <th>reviewTime</th>\n",
       "      <th>categoryN</th>\n",
       "      <th>category</th>\n",
       "    </tr>\n",
       "  </thead>\n",
       "  <tbody>\n",
       "    <tr>\n",
       "      <th>15000000</th>\n",
       "      <td>ALLQXRZBHXBIX</td>\n",
       "      <td>B00IJXZ65E</td>\n",
       "      <td>Adrian L.</td>\n",
       "      <td>[2, 2]</td>\n",
       "      <td>I find this short and concise guide to Speed R...</td>\n",
       "      <td>5</td>\n",
       "      <td>No nonsense guide to Speed Reading</td>\n",
       "      <td>1393113600</td>\n",
       "      <td>02 23, 2014</td>\n",
       "      <td>14</td>\n",
       "      <td>kindle_store</td>\n",
       "    </tr>\n",
       "    <tr>\n",
       "      <th>15000001</th>\n",
       "      <td>A19X580H7R1F8C</td>\n",
       "      <td>B00IJXZ65E</td>\n",
       "      <td>Becky C-A</td>\n",
       "      <td>[2, 2]</td>\n",
       "      <td>Although I consider myself to be a fast reader...</td>\n",
       "      <td>5</td>\n",
       "      <td>An Interesting Guide To Faster Reading</td>\n",
       "      <td>1393027200</td>\n",
       "      <td>02 22, 2014</td>\n",
       "      <td>14</td>\n",
       "      <td>kindle_store</td>\n",
       "    </tr>\n",
       "    <tr>\n",
       "      <th>15000002</th>\n",
       "      <td>A8HID0WMOH1NQ</td>\n",
       "      <td>B00IJXZ65E</td>\n",
       "      <td>Benjamin</td>\n",
       "      <td>[0, 0]</td>\n",
       "      <td>This book is full of useful tips. As some one ...</td>\n",
       "      <td>5</td>\n",
       "      <td>Good Quick Read!</td>\n",
       "      <td>1393027200</td>\n",
       "      <td>02 22, 2014</td>\n",
       "      <td>14</td>\n",
       "      <td>kindle_store</td>\n",
       "    </tr>\n",
       "    <tr>\n",
       "      <th>15000003</th>\n",
       "      <td>A37LY77Q2YPJVL</td>\n",
       "      <td>B00IJXZ65E</td>\n",
       "      <td>Cathy Wilson</td>\n",
       "      <td>[1, 1]</td>\n",
       "      <td>Speed Reading Techniques is a quality guide to...</td>\n",
       "      <td>5</td>\n",
       "      <td>Take Action with Your Speed Reading Techniques!</td>\n",
       "      <td>1393113600</td>\n",
       "      <td>02 23, 2014</td>\n",
       "      <td>14</td>\n",
       "      <td>kindle_store</td>\n",
       "    </tr>\n",
       "    <tr>\n",
       "      <th>15000004</th>\n",
       "      <td>A2G3YLS9N0TJH9</td>\n",
       "      <td>B00IJXZ65E</td>\n",
       "      <td>Theresa</td>\n",
       "      <td>[0, 0]</td>\n",
       "      <td>This book has some great tips to help you with...</td>\n",
       "      <td>5</td>\n",
       "      <td>Great info</td>\n",
       "      <td>1393718400</td>\n",
       "      <td>03 2, 2014</td>\n",
       "      <td>14</td>\n",
       "      <td>kindle_store</td>\n",
       "    </tr>\n",
       "  </tbody>\n",
       "</table>\n",
       "</div>"
      ],
      "text/plain": [
       "              reviewerID        asin  reviewerName helpful  \\\n",
       "15000000   ALLQXRZBHXBIX  B00IJXZ65E     Adrian L.  [2, 2]   \n",
       "15000001  A19X580H7R1F8C  B00IJXZ65E     Becky C-A  [2, 2]   \n",
       "15000002   A8HID0WMOH1NQ  B00IJXZ65E      Benjamin  [0, 0]   \n",
       "15000003  A37LY77Q2YPJVL  B00IJXZ65E  Cathy Wilson  [1, 1]   \n",
       "15000004  A2G3YLS9N0TJH9  B00IJXZ65E       Theresa  [0, 0]   \n",
       "\n",
       "                                                 reviewText  overall  \\\n",
       "15000000  I find this short and concise guide to Speed R...        5   \n",
       "15000001  Although I consider myself to be a fast reader...        5   \n",
       "15000002  This book is full of useful tips. As some one ...        5   \n",
       "15000003  Speed Reading Techniques is a quality guide to...        5   \n",
       "15000004  This book has some great tips to help you with...        5   \n",
       "\n",
       "                                                  summary  unixReviewTime  \\\n",
       "15000000               No nonsense guide to Speed Reading      1393113600   \n",
       "15000001           An Interesting Guide To Faster Reading      1393027200   \n",
       "15000002                                 Good Quick Read!      1393027200   \n",
       "15000003  Take Action with Your Speed Reading Techniques!      1393113600   \n",
       "15000004                                       Great info      1393718400   \n",
       "\n",
       "           reviewTime  categoryN      category  \n",
       "15000000  02 23, 2014         14  kindle_store  \n",
       "15000001  02 22, 2014         14  kindle_store  \n",
       "15000002  02 22, 2014         14  kindle_store  \n",
       "15000003  02 23, 2014         14  kindle_store  \n",
       "15000004   03 2, 2014         14  kindle_store  "
      ]
     },
     "execution_count": 28,
     "metadata": {},
     "output_type": "execute_result"
    }
   ],
   "source": [
    "list_of_dfs[15].head()"
   ]
  },
  {
   "cell_type": "code",
   "execution_count": null,
   "metadata": {},
   "outputs": [],
   "source": [
    "for x in list_of_dfs:\n",
    "    x.to_gbq(destination_table='SR.reviewLORD',project_id='pf-henry-365404',if_exists='append')"
   ]
  }
 ],
 "metadata": {
  "kernelspec": {
   "display_name": "Python 3.10.3 64-bit",
   "language": "python",
   "name": "python3"
  },
  "language_info": {
   "codemirror_mode": {
    "name": "ipython",
    "version": 3
   },
   "file_extension": ".py",
   "mimetype": "text/x-python",
   "name": "python",
   "nbconvert_exporter": "python",
   "pygments_lexer": "ipython3",
   "version": "3.10.8"
  },
  "orig_nbformat": 4,
  "vscode": {
   "interpreter": {
    "hash": "73a5200d3fd404ce14db8ffe6e34bc62c01709436f046558d243792d3348dfdb"
   }
  }
 },
 "nbformat": 4,
 "nbformat_minor": 2
}
