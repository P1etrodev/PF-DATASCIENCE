{
 "cells": [
  {
   "cell_type": "markdown",
   "metadata": {},
   "source": [
    "# MODELADO"
   ]
  },
  {
   "cell_type": "code",
   "execution_count": 80,
   "metadata": {},
   "outputs": [],
   "source": [
    "#Instanciamos el modelo\n",
    "import sys\n",
    "from surprise import Dataset\n",
    "from surprise import Reader\n",
    "from surprise.model_selection import train_test_split\n",
    "from surprise import dump\n"
   ]
  },
  {
   "cell_type": "code",
   "execution_count": 81,
   "metadata": {},
   "outputs": [],
   "source": [
    "reader = Reader()"
   ]
  },
  {
   "cell_type": "code",
   "execution_count": 82,
   "metadata": {},
   "outputs": [
    {
     "data": {
      "text/plain": [
       "15740783"
      ]
     },
     "execution_count": 82,
     "metadata": {},
     "output_type": "execute_result"
    }
   ],
   "source": [
    "df.shape[0]"
   ]
  },
  {
   "cell_type": "code",
   "execution_count": 83,
   "metadata": {},
   "outputs": [],
   "source": [
    "\n",
    "N_filas = df.shape[0] # Limitamos el dataset a N_filas\n",
    "\n",
    "data = Dataset.load_from_df(df[['reviewerName', 'asin', 'overall']][:N_filas], reader)"
   ]
  },
  {
   "cell_type": "code",
   "execution_count": 45,
   "metadata": {},
   "outputs": [],
   "source": [
    "# Separamos nuestros datos\n",
    "trainset, testset = train_test_split(data, test_size=.25)"
   ]
  },
  {
   "cell_type": "code",
   "execution_count": 84,
   "metadata": {},
   "outputs": [
    {
     "data": {
      "text/plain": [
       "<surprise.trainset.Trainset at 0x150ee05b790>"
      ]
     },
     "execution_count": 84,
     "metadata": {},
     "output_type": "execute_result"
    }
   ],
   "source": [
    "trainset"
   ]
  },
  {
   "cell_type": "code",
   "execution_count": 85,
   "metadata": {},
   "outputs": [],
   "source": [
    "# Usaremos un modelo de Singular Value Decomposition\n",
    "from surprise import SVD\n",
    "model = SVD(n_factors=5, n_epochs=20, lr_all=0.005, reg_all=0.02)"
   ]
  },
  {
   "cell_type": "code",
   "execution_count": 86,
   "metadata": {},
   "outputs": [
    {
     "data": {
      "text/plain": [
       "<surprise.prediction_algorithms.matrix_factorization.SVD at 0x15148c042e0>"
      ]
     },
     "execution_count": 86,
     "metadata": {},
     "output_type": "execute_result"
    }
   ],
   "source": [
    "# Entrenamos el modelo\n",
    "\n",
    "model.fit(trainset)"
   ]
  },
  {
   "cell_type": "code",
   "execution_count": 87,
   "metadata": {},
   "outputs": [],
   "source": [
    "# Predecimos\n",
    "\n",
    "predictions = model.test(testset)"
   ]
  },
  {
   "cell_type": "code",
   "execution_count": 50,
   "metadata": {},
   "outputs": [
    {
     "data": {
      "text/plain": [
       "Prediction(uid='A1MVJPIKVCNP86', iid='B009934S5M', r_ui=1.0, est=3.598067442037955, details={'was_impossible': False})"
      ]
     },
     "execution_count": 50,
     "metadata": {},
     "output_type": "execute_result"
    }
   ],
   "source": [
    "predictions[1]"
   ]
  },
  {
   "cell_type": "code",
   "execution_count": 51,
   "metadata": {},
   "outputs": [
    {
     "data": {
      "text/plain": [
       "Prediction(uid=1328945, iid=28, r_ui=None, est=4.233928816923716, details={'was_impossible': False})"
      ]
     },
     "execution_count": 51,
     "metadata": {},
     "output_type": "execute_result"
    }
   ],
   "source": [
    "model.predict(1328945,28)"
   ]
  },
  {
   "cell_type": "code",
   "execution_count": 88,
   "metadata": {},
   "outputs": [
    {
     "data": {
      "text/html": [
       "<div>\n",
       "<style scoped>\n",
       "    .dataframe tbody tr th:only-of-type {\n",
       "        vertical-align: middle;\n",
       "    }\n",
       "\n",
       "    .dataframe tbody tr th {\n",
       "        vertical-align: top;\n",
       "    }\n",
       "\n",
       "    .dataframe thead th {\n",
       "        text-align: right;\n",
       "    }\n",
       "</style>\n",
       "<table border=\"1\" class=\"dataframe\">\n",
       "  <thead>\n",
       "    <tr style=\"text-align: right;\">\n",
       "      <th></th>\n",
       "      <th>reviewerName</th>\n",
       "      <th>asin</th>\n",
       "      <th>overall</th>\n",
       "      <th>title</th>\n",
       "    </tr>\n",
       "  </thead>\n",
       "  <tbody>\n",
       "    <tr>\n",
       "      <th>0</th>\n",
       "      <td>Amazon Customer</td>\n",
       "      <td>B0099SMFVQ</td>\n",
       "      <td>4</td>\n",
       "      <td>Logitech Bluetooth Illuminated Keyboard K810 f...</td>\n",
       "    </tr>\n",
       "    <tr>\n",
       "      <th>1</th>\n",
       "      <td>Amazon Customer</td>\n",
       "      <td>B0098WV8F2</td>\n",
       "      <td>4</td>\n",
       "      <td>Bell Plantation PB2 Powdered Peanut Butter and...</td>\n",
       "    </tr>\n",
       "    <tr>\n",
       "      <th>2</th>\n",
       "      <td>Amazon Customer</td>\n",
       "      <td>B007QW5S3E</td>\n",
       "      <td>4</td>\n",
       "      <td>N/A</td>\n",
       "    </tr>\n",
       "    <tr>\n",
       "      <th>3</th>\n",
       "      <td>Amazon Customer</td>\n",
       "      <td>B004ISLNYC</td>\n",
       "      <td>4</td>\n",
       "      <td>N/A</td>\n",
       "    </tr>\n",
       "    <tr>\n",
       "      <th>4</th>\n",
       "      <td>Amazon Customer</td>\n",
       "      <td>B0050JKLW8</td>\n",
       "      <td>4</td>\n",
       "      <td>N/A</td>\n",
       "    </tr>\n",
       "    <tr>\n",
       "      <th>...</th>\n",
       "      <td>...</td>\n",
       "      <td>...</td>\n",
       "      <td>...</td>\n",
       "      <td>...</td>\n",
       "    </tr>\n",
       "    <tr>\n",
       "      <th>336997</th>\n",
       "      <td>Amazon Customer</td>\n",
       "      <td>1490547738</td>\n",
       "      <td>5</td>\n",
       "      <td>Mad for You (Mad, Bad, &amp;amp; Dangerous to Love...</td>\n",
       "    </tr>\n",
       "    <tr>\n",
       "      <th>336998</th>\n",
       "      <td>Amazon Customer</td>\n",
       "      <td>0380728397</td>\n",
       "      <td>5</td>\n",
       "      <td>Don't Know Much About the Bible: Everything Yo...</td>\n",
       "    </tr>\n",
       "    <tr>\n",
       "      <th>336999</th>\n",
       "      <td>Amazon Customer</td>\n",
       "      <td>1493524208</td>\n",
       "      <td>5</td>\n",
       "      <td>Royal Trouble: (Texas Trouble, #10)</td>\n",
       "    </tr>\n",
       "    <tr>\n",
       "      <th>337000</th>\n",
       "      <td>Amazon Customer</td>\n",
       "      <td>014219672X</td>\n",
       "      <td>5</td>\n",
       "      <td>On the Island (Plume Book)</td>\n",
       "    </tr>\n",
       "    <tr>\n",
       "      <th>337001</th>\n",
       "      <td>Amazon Customer</td>\n",
       "      <td>B00CWL2C2E</td>\n",
       "      <td>5</td>\n",
       "      <td>N/A</td>\n",
       "    </tr>\n",
       "  </tbody>\n",
       "</table>\n",
       "<p>337002 rows × 4 columns</p>\n",
       "</div>"
      ],
      "text/plain": [
       "           reviewerName        asin  overall  \\\n",
       "0       Amazon Customer  B0099SMFVQ        4   \n",
       "1       Amazon Customer  B0098WV8F2        4   \n",
       "2       Amazon Customer  B007QW5S3E        4   \n",
       "3       Amazon Customer  B004ISLNYC        4   \n",
       "4       Amazon Customer  B0050JKLW8        4   \n",
       "...                 ...         ...      ...   \n",
       "336997  Amazon Customer  1490547738        5   \n",
       "336998  Amazon Customer  0380728397        5   \n",
       "336999  Amazon Customer  1493524208        5   \n",
       "337000  Amazon Customer  014219672X        5   \n",
       "337001  Amazon Customer  B00CWL2C2E        5   \n",
       "\n",
       "                                                    title  \n",
       "0       Logitech Bluetooth Illuminated Keyboard K810 f...  \n",
       "1       Bell Plantation PB2 Powdered Peanut Butter and...  \n",
       "2                                                     N/A  \n",
       "3                                                     N/A  \n",
       "4                                                     N/A  \n",
       "...                                                   ...  \n",
       "336997  Mad for You (Mad, Bad, &amp; Dangerous to Love...  \n",
       "336998  Don't Know Much About the Bible: Everything Yo...  \n",
       "336999                Royal Trouble: (Texas Trouble, #10)  \n",
       "337000                         On the Island (Plume Book)  \n",
       "337001                                                N/A  \n",
       "\n",
       "[337002 rows x 4 columns]"
      ]
     },
     "execution_count": 88,
     "metadata": {},
     "output_type": "execute_result"
    }
   ],
   "source": [
    "# Tomaremos un usuario para hacerle una recomendación\n",
    "\n",
    "usuario = 'Amazon Customer'\n",
    "rating = 4   \n",
    "\n",
    "#Crea matriz que contiene todas las reseñas superiores a 4 estrellas del usuario indicado\n",
    "df_user = df[(df['reviewerName'] == usuario) & (df['overall'] >= rating)]\n",
    "df_user = df_user.reset_index(drop=True)\n",
    "\n",
    "#Merge con titulos\n",
    "#df_user = pd.merge(df_user,df_title['title'], on='productID')\n",
    "#df_user['title'] = df_title['title'].loc[df_user['asin']].values\n",
    "df_user = df_user.join(df_title.set_index('asin'), on='asin')\n",
    "df_user"
   ]
  },
  {
   "cell_type": "code",
   "execution_count": 89,
   "metadata": {},
   "outputs": [],
   "source": [
    "#Copia de title para recomendaciones\n",
    "recomendaciones_usuario = df_title.copy()\n"
   ]
  },
  {
   "cell_type": "code",
   "execution_count": 90,
   "metadata": {},
   "outputs": [
    {
     "name": "stdout",
     "output_type": "stream",
     "text": [
      "(409355, 3)\n"
     ]
    },
    {
     "data": {
      "text/html": [
       "<div>\n",
       "<style scoped>\n",
       "    .dataframe tbody tr th:only-of-type {\n",
       "        vertical-align: middle;\n",
       "    }\n",
       "\n",
       "    .dataframe tbody tr th {\n",
       "        vertical-align: top;\n",
       "    }\n",
       "\n",
       "    .dataframe thead th {\n",
       "        text-align: right;\n",
       "    }\n",
       "</style>\n",
       "<table border=\"1\" class=\"dataframe\">\n",
       "  <thead>\n",
       "    <tr style=\"text-align: right;\">\n",
       "      <th></th>\n",
       "      <th>reviewerName</th>\n",
       "      <th>asin</th>\n",
       "      <th>overall</th>\n",
       "    </tr>\n",
       "  </thead>\n",
       "  <tbody>\n",
       "    <tr>\n",
       "      <th>95</th>\n",
       "      <td>Amazon Customer</td>\n",
       "      <td>0316037818</td>\n",
       "      <td>1</td>\n",
       "    </tr>\n",
       "    <tr>\n",
       "      <th>117</th>\n",
       "      <td>Amazon Customer</td>\n",
       "      <td>B005YDVGE2</td>\n",
       "      <td>1</td>\n",
       "    </tr>\n",
       "    <tr>\n",
       "      <th>218</th>\n",
       "      <td>Amazon Customer</td>\n",
       "      <td>B00CI9URW2</td>\n",
       "      <td>1</td>\n",
       "    </tr>\n",
       "    <tr>\n",
       "      <th>231</th>\n",
       "      <td>Amazon Customer</td>\n",
       "      <td>144235948X</td>\n",
       "      <td>1</td>\n",
       "    </tr>\n",
       "    <tr>\n",
       "      <th>258</th>\n",
       "      <td>Amazon Customer</td>\n",
       "      <td>B00FEM2XL8</td>\n",
       "      <td>1</td>\n",
       "    </tr>\n",
       "  </tbody>\n",
       "</table>\n",
       "</div>"
      ],
      "text/plain": [
       "        reviewerName        asin  overall\n",
       "95   Amazon Customer  0316037818        1\n",
       "117  Amazon Customer  B005YDVGE2        1\n",
       "218  Amazon Customer  B00CI9URW2        1\n",
       "231  Amazon Customer  144235948X        1\n",
       "258  Amazon Customer  B00FEM2XL8        1"
      ]
     },
     "execution_count": 90,
     "metadata": {},
     "output_type": "execute_result"
    }
   ],
   "source": [
    "# Debemos extraer las películas que ya ha visto\n",
    "\n",
    "usuario_vistas = df[df['reviewerName'] == usuario]\n",
    "print(usuario_vistas.shape)\n",
    "usuario_vistas.head()"
   ]
  },
  {
   "cell_type": "code",
   "execution_count": 152,
   "metadata": {},
   "outputs": [
    {
     "data": {
      "text/html": [
       "<div>\n",
       "<style scoped>\n",
       "    .dataframe tbody tr th:only-of-type {\n",
       "        vertical-align: middle;\n",
       "    }\n",
       "\n",
       "    .dataframe tbody tr th {\n",
       "        vertical-align: top;\n",
       "    }\n",
       "\n",
       "    .dataframe thead th {\n",
       "        text-align: right;\n",
       "    }\n",
       "</style>\n",
       "<table border=\"1\" class=\"dataframe\">\n",
       "  <thead>\n",
       "    <tr style=\"text-align: right;\">\n",
       "      <th></th>\n",
       "      <th>title</th>\n",
       "      <th>asin</th>\n",
       "    </tr>\n",
       "  </thead>\n",
       "  <tbody>\n",
       "    <tr>\n",
       "      <th>0</th>\n",
       "      <td>Sterling Silver Red Dark Amber Drop Pendant Ea...</td>\n",
       "      <td>B00D2RUK9Y</td>\n",
       "    </tr>\n",
       "    <tr>\n",
       "      <th>1</th>\n",
       "      <td>Harley-Davidson Men's Long Sleeve Screamin' Ea...</td>\n",
       "      <td>B00CQ49NLU</td>\n",
       "    </tr>\n",
       "    <tr>\n",
       "      <th>2</th>\n",
       "      <td>Circus by Sam Edelman Women's Gillian Boot</td>\n",
       "      <td>B00CPKZDQO</td>\n",
       "    </tr>\n",
       "    <tr>\n",
       "      <th>3</th>\n",
       "      <td>Ruby Red and Green Poinsettia Christmas Rosary...</td>\n",
       "      <td>B00CO9IM6E</td>\n",
       "    </tr>\n",
       "    <tr>\n",
       "      <th>4</th>\n",
       "      <td>Sterling Silver Native American Indian Feather...</td>\n",
       "      <td>B00CWGTCC2</td>\n",
       "    </tr>\n",
       "    <tr>\n",
       "      <th>...</th>\n",
       "      <td>...</td>\n",
       "      <td>...</td>\n",
       "    </tr>\n",
       "    <tr>\n",
       "      <th>9430083</th>\n",
       "      <td>N/A</td>\n",
       "      <td>0890982856</td>\n",
       "    </tr>\n",
       "    <tr>\n",
       "      <th>9430084</th>\n",
       "      <td>N/A</td>\n",
       "      <td>0966674006</td>\n",
       "    </tr>\n",
       "    <tr>\n",
       "      <th>9430085</th>\n",
       "      <td>N/A</td>\n",
       "      <td>0963317644</td>\n",
       "    </tr>\n",
       "    <tr>\n",
       "      <th>9430086</th>\n",
       "      <td>N/A</td>\n",
       "      <td>0966965671</td>\n",
       "    </tr>\n",
       "    <tr>\n",
       "      <th>9430087</th>\n",
       "      <td>N/A</td>\n",
       "      <td>0899334741</td>\n",
       "    </tr>\n",
       "  </tbody>\n",
       "</table>\n",
       "<p>9430088 rows × 2 columns</p>\n",
       "</div>"
      ],
      "text/plain": [
       "                                                     title        asin\n",
       "0        Sterling Silver Red Dark Amber Drop Pendant Ea...  B00D2RUK9Y\n",
       "1        Harley-Davidson Men's Long Sleeve Screamin' Ea...  B00CQ49NLU\n",
       "2               Circus by Sam Edelman Women's Gillian Boot  B00CPKZDQO\n",
       "3        Ruby Red and Green Poinsettia Christmas Rosary...  B00CO9IM6E\n",
       "4        Sterling Silver Native American Indian Feather...  B00CWGTCC2\n",
       "...                                                    ...         ...\n",
       "9430083                                                N/A  0890982856\n",
       "9430084                                                N/A  0966674006\n",
       "9430085                                                N/A  0963317644\n",
       "9430086                                                N/A  0966965671\n",
       "9430087                                                N/A  0899334741\n",
       "\n",
       "[9430088 rows x 2 columns]"
      ]
     },
     "execution_count": 152,
     "metadata": {},
     "output_type": "execute_result"
    }
   ],
   "source": [
    "recomendaciones_usuario"
   ]
  },
  {
   "cell_type": "code",
   "execution_count": 91,
   "metadata": {},
   "outputs": [],
   "source": [
    "# Sacamos las que filtramos\n",
    "\n",
    "recomendaciones_usuario = recomendaciones_usuario[~recomendaciones_usuario.isin(productos_pocos_vistos).any(axis=1)]"
   ]
  },
  {
   "cell_type": "code",
   "execution_count": 154,
   "metadata": {},
   "outputs": [
    {
     "data": {
      "text/html": [
       "<div>\n",
       "<style scoped>\n",
       "    .dataframe tbody tr th:only-of-type {\n",
       "        vertical-align: middle;\n",
       "    }\n",
       "\n",
       "    .dataframe tbody tr th {\n",
       "        vertical-align: top;\n",
       "    }\n",
       "\n",
       "    .dataframe thead th {\n",
       "        text-align: right;\n",
       "    }\n",
       "</style>\n",
       "<table border=\"1\" class=\"dataframe\">\n",
       "  <thead>\n",
       "    <tr style=\"text-align: right;\">\n",
       "      <th></th>\n",
       "      <th>title</th>\n",
       "      <th>asin</th>\n",
       "    </tr>\n",
       "  </thead>\n",
       "  <tbody>\n",
       "    <tr>\n",
       "      <th>0</th>\n",
       "      <td>Sterling Silver Red Dark Amber Drop Pendant Ea...</td>\n",
       "      <td>B00D2RUK9Y</td>\n",
       "    </tr>\n",
       "    <tr>\n",
       "      <th>1</th>\n",
       "      <td>Harley-Davidson Men's Long Sleeve Screamin' Ea...</td>\n",
       "      <td>B00CQ49NLU</td>\n",
       "    </tr>\n",
       "    <tr>\n",
       "      <th>2</th>\n",
       "      <td>Circus by Sam Edelman Women's Gillian Boot</td>\n",
       "      <td>B00CPKZDQO</td>\n",
       "    </tr>\n",
       "    <tr>\n",
       "      <th>3</th>\n",
       "      <td>Ruby Red and Green Poinsettia Christmas Rosary...</td>\n",
       "      <td>B00CO9IM6E</td>\n",
       "    </tr>\n",
       "    <tr>\n",
       "      <th>4</th>\n",
       "      <td>Sterling Silver Native American Indian Feather...</td>\n",
       "      <td>B00CWGTCC2</td>\n",
       "    </tr>\n",
       "    <tr>\n",
       "      <th>...</th>\n",
       "      <td>...</td>\n",
       "      <td>...</td>\n",
       "    </tr>\n",
       "    <tr>\n",
       "      <th>9430083</th>\n",
       "      <td>N/A</td>\n",
       "      <td>0890982856</td>\n",
       "    </tr>\n",
       "    <tr>\n",
       "      <th>9430084</th>\n",
       "      <td>N/A</td>\n",
       "      <td>0966674006</td>\n",
       "    </tr>\n",
       "    <tr>\n",
       "      <th>9430085</th>\n",
       "      <td>N/A</td>\n",
       "      <td>0963317644</td>\n",
       "    </tr>\n",
       "    <tr>\n",
       "      <th>9430086</th>\n",
       "      <td>N/A</td>\n",
       "      <td>0966965671</td>\n",
       "    </tr>\n",
       "    <tr>\n",
       "      <th>9430087</th>\n",
       "      <td>N/A</td>\n",
       "      <td>0899334741</td>\n",
       "    </tr>\n",
       "  </tbody>\n",
       "</table>\n",
       "<p>9070243 rows × 2 columns</p>\n",
       "</div>"
      ],
      "text/plain": [
       "                                                     title        asin\n",
       "0        Sterling Silver Red Dark Amber Drop Pendant Ea...  B00D2RUK9Y\n",
       "1        Harley-Davidson Men's Long Sleeve Screamin' Ea...  B00CQ49NLU\n",
       "2               Circus by Sam Edelman Women's Gillian Boot  B00CPKZDQO\n",
       "3        Ruby Red and Green Poinsettia Christmas Rosary...  B00CO9IM6E\n",
       "4        Sterling Silver Native American Indian Feather...  B00CWGTCC2\n",
       "...                                                    ...         ...\n",
       "9430083                                                N/A  0890982856\n",
       "9430084                                                N/A  0966674006\n",
       "9430085                                                N/A  0963317644\n",
       "9430086                                                N/A  0966965671\n",
       "9430087                                                N/A  0899334741\n",
       "\n",
       "[9070243 rows x 2 columns]"
      ]
     },
     "execution_count": 154,
     "metadata": {},
     "output_type": "execute_result"
    }
   ],
   "source": [
    "recomendaciones_usuario"
   ]
  },
  {
   "cell_type": "code",
   "execution_count": 92,
   "metadata": {},
   "outputs": [
    {
     "data": {
      "text/html": [
       "<div>\n",
       "<style scoped>\n",
       "    .dataframe tbody tr th:only-of-type {\n",
       "        vertical-align: middle;\n",
       "    }\n",
       "\n",
       "    .dataframe tbody tr th {\n",
       "        vertical-align: top;\n",
       "    }\n",
       "\n",
       "    .dataframe thead th {\n",
       "        text-align: right;\n",
       "    }\n",
       "</style>\n",
       "<table border=\"1\" class=\"dataframe\">\n",
       "  <thead>\n",
       "    <tr style=\"text-align: right;\">\n",
       "      <th></th>\n",
       "      <th>title</th>\n",
       "      <th>asin</th>\n",
       "    </tr>\n",
       "  </thead>\n",
       "  <tbody>\n",
       "    <tr>\n",
       "      <th>0</th>\n",
       "      <td>Karen Kane Women's Plus-Size Stencil Dress</td>\n",
       "      <td>B00CSI12W2</td>\n",
       "    </tr>\n",
       "    <tr>\n",
       "      <th>1</th>\n",
       "      <td>Morgan Mesh Dress</td>\n",
       "      <td>B00D5XLYXG</td>\n",
       "    </tr>\n",
       "    <tr>\n",
       "      <th>2</th>\n",
       "      <td>Ashanti Sterling Silver Mint Green Amethyst Lo...</td>\n",
       "      <td>B00D2WUTE0</td>\n",
       "    </tr>\n",
       "    <tr>\n",
       "      <th>3</th>\n",
       "      <td>Akribos XXIV Women's AK567RG Impeccable Slim S...</td>\n",
       "      <td>B00DEX5LVI</td>\n",
       "    </tr>\n",
       "    <tr>\n",
       "      <th>4</th>\n",
       "      <td>School Uniform Unisex Short Sleeve Pique Knit ...</td>\n",
       "      <td>B00D3P4FY6</td>\n",
       "    </tr>\n",
       "  </tbody>\n",
       "</table>\n",
       "</div>"
      ],
      "text/plain": [
       "                                               title        asin\n",
       "0         Karen Kane Women's Plus-Size Stencil Dress  B00CSI12W2\n",
       "1                                  Morgan Mesh Dress  B00D5XLYXG\n",
       "2  Ashanti Sterling Silver Mint Green Amethyst Lo...  B00D2WUTE0\n",
       "3  Akribos XXIV Women's AK567RG Impeccable Slim S...  B00DEX5LVI\n",
       "4  School Uniform Unisex Short Sleeve Pique Knit ...  B00D3P4FY6"
      ]
     },
     "execution_count": 92,
     "metadata": {},
     "output_type": "execute_result"
    }
   ],
   "source": [
    "#sacamos los productos reseñados por ese usuario\n",
    "\n",
    "recomendaciones_usuario = recomendaciones_usuario[~(recomendaciones_usuario.asin.isin(usuario_vistas.asin))]\n",
    "#recomendaciones_usuario = recomendaciones_usuario.reset_index()\n",
    "recomendaciones_usuario.head()"
   ]
  },
  {
   "cell_type": "code",
   "execution_count": 93,
   "metadata": {},
   "outputs": [],
   "source": [
    "# Recomendamos\n",
    "\n",
    "recomendaciones_usuario['Estimate_Score'] = recomendaciones_usuario['asin'].apply(lambda x: model.predict(usuario, x).est)"
   ]
  },
  {
   "cell_type": "code",
   "execution_count": 94,
   "metadata": {},
   "outputs": [
    {
     "name": "stdout",
     "output_type": "stream",
     "text": [
      "                                                     title        asin  \\\n",
      "8813799                                                N/A  B00885RV9C   \n",
      "6322590       9/11 - The Filmmakers' Commemorative Edition  B00006B1HI   \n",
      "4098626                                        Ege Bamyasi  B0000067X3   \n",
      "2629467                Coupling - The Complete Seasons 1-4  B0006HBLU0   \n",
      "4478462                                     Out Of A Dream  B000006P8O   \n",
      "6549331  The Coming of Conan the Cimmerian: The Origina...  0345461517   \n",
      "5469561                                      Heaven's Fire  0451406990   \n",
      "4569663                      Reba McEntire - Greatest Hits  B000002O42   \n",
      "2232932         Panasonic BQ-CASE6SA Battery Storage Cases  B00JHKSKZQ   \n",
      "8516983                                                N/A  B005DKRFV4   \n",
      "\n",
      "         Estimate_Score  \n",
      "8813799             5.0  \n",
      "6322590             5.0  \n",
      "4098626             5.0  \n",
      "2629467             5.0  \n",
      "4478462             5.0  \n",
      "6549331             5.0  \n",
      "5469561             5.0  \n",
      "4569663             5.0  \n",
      "2232932             5.0  \n",
      "8516983             5.0  \n"
     ]
    }
   ],
   "source": [
    "#Ordenamos las predicciones por puntuacion estimada\n",
    "recomendaciones_usuario = recomendaciones_usuario.sort_values('Estimate_Score', ascending=False)\n",
    "print(recomendaciones_usuario.head(10))"
   ]
  },
  {
   "cell_type": "code",
   "execution_count": 98,
   "metadata": {},
   "outputs": [],
   "source": [
    "import pandas as pd\n",
    "from pandas.io import gbq\n",
    "from google.cloud import bigquery\n",
    "import os\n",
    "\n",
    "credentials_path = 'D:/Henry/DATA-PF/PF-DATASCIENCE/Modelo/credentials.json'\n",
    "os.environ['GOOGLE_APPLICATION_CREDENTIALS'] = credentials_path"
   ]
  },
  {
   "cell_type": "code",
   "execution_count": 100,
   "metadata": {},
   "outputs": [],
   "source": [
    "#Exportamos la prediccion\n",
    "recomendaciones_usuario.head(10).to_gbq(destination_table='SR.recomendaciones',project_id='pf-henry-365404',if_exists='append')"
   ]
  },
  {
   "cell_type": "markdown",
   "metadata": {},
   "source": [
    "# EVALUACION"
   ]
  },
  {
   "cell_type": "code",
   "execution_count": 159,
   "metadata": {},
   "outputs": [
    {
     "name": "stdout",
     "output_type": "stream",
     "text": [
      "RMSE: 0.9548\n",
      "accuracy:  0.954843586213844\n"
     ]
    }
   ],
   "source": [
    "from surprise import accuracy\n",
    "#Evaluamos matrices sobre las predicciones\n",
    "print('accuracy: ',accuracy.rmse(predictions))"
   ]
  },
  {
   "cell_type": "markdown",
   "metadata": {},
   "source": [
    "# OPTIMIZACION"
   ]
  },
  {
   "cell_type": "code",
   "execution_count": 128,
   "metadata": {},
   "outputs": [
    {
     "name": "stdout",
     "output_type": "stream",
     "text": [
      "1\n",
      "Evaluating RMSE of algorithm SVD on 3 split(s).\n",
      "\n",
      "                  Fold 1  Fold 2  Fold 3  Mean    Std     \n",
      "RMSE (testset)    0.9592  0.9593  0.9588  0.9591  0.0002  \n",
      "Fit time          141.00  148.32  148.72  146.01  3.55    \n",
      "Test time         54.63   52.02   61.67   56.11   4.07    \n",
      "2\n",
      "Evaluating RMSE of algorithm SVD on 3 split(s).\n",
      "\n",
      "                  Fold 1  Fold 2  Fold 3  Mean    Std     \n",
      "RMSE (testset)    0.9591  0.9594  0.9589  0.9591  0.0002  \n",
      "Fit time          147.65  148.89  149.45  148.66  0.75    \n",
      "Test time         51.82   51.14   60.48   54.48   4.25    \n",
      "4\n",
      "Evaluating RMSE of algorithm SVD on 3 split(s).\n",
      "\n",
      "                  Fold 1  Fold 2  Fold 3  Mean    Std     \n",
      "RMSE (testset)    0.9579  0.9599  0.9596  0.9591  0.0009  \n",
      "Fit time          147.49  150.34  150.89  149.57  1.49    \n",
      "Test time         53.33   50.89   59.04   54.42   3.41    \n",
      "8\n",
      "Evaluating RMSE of algorithm SVD on 3 split(s).\n",
      "\n",
      "                  Fold 1  Fold 2  Fold 3  Mean    Std     \n",
      "RMSE (testset)    0.9595  0.9592  0.9590  0.9593  0.0002  \n",
      "Fit time          146.06  152.01  151.23  149.77  2.64    \n",
      "Test time         49.87   59.64   50.90   53.47   4.38    \n",
      "16\n",
      "Evaluating RMSE of algorithm SVD on 3 split(s).\n",
      "\n",
      "                  Fold 1  Fold 2  Fold 3  Mean    Std     \n",
      "RMSE (testset)    0.9590  0.9603  0.9595  0.9596  0.0005  \n",
      "Fit time          152.86  154.54  153.74  153.71  0.69    \n",
      "Test time         59.54   49.13   49.96   52.88   4.72    \n",
      "32\n",
      "Evaluating RMSE of algorithm SVD on 3 split(s).\n",
      "\n",
      "                  Fold 1  Fold 2  Fold 3  Mean    Std     \n",
      "RMSE (testset)    0.9603  0.9602  0.9594  0.9600  0.0004  \n",
      "Fit time          164.37  169.86  167.18  167.14  2.24    \n",
      "Test time         49.95   49.05   48.81   49.27   0.49    \n",
      "64\n",
      "Evaluating RMSE of algorithm SVD on 3 split(s).\n",
      "\n",
      "                  Fold 1  Fold 2  Fold 3  Mean    Std     \n",
      "RMSE (testset)    0.9604  0.9602  0.9604  0.9603  0.0001  \n",
      "Fit time          197.36  202.92  204.32  201.53  3.01    \n",
      "Test time         49.45   50.32   49.76   49.84   0.36    \n",
      "128\n",
      "Evaluating RMSE of algorithm SVD on 3 split(s).\n",
      "\n",
      "                  Fold 1  Fold 2  Fold 3  Mean    Std     \n",
      "RMSE (testset)    0.9616  0.9619  0.9618  0.9618  0.0001  \n",
      "Fit time          264.34  272.90  268.04  268.43  3.51    \n",
      "Test time         69.71   56.58   56.50   60.93   6.21    \n",
      "256\n",
      "Evaluating RMSE of algorithm SVD on 3 split(s).\n",
      "\n",
      "                  Fold 1  Fold 2  Fold 3  Mean    Std     \n",
      "RMSE (testset)    0.9652  0.9653  0.9644  0.9650  0.0004  \n",
      "Fit time          347.02  357.82  352.18  352.34  4.41    \n",
      "Test time         58.34   59.44   57.55   58.45   0.78    \n"
     ]
    }
   ],
   "source": [
    "from surprise.model_selection import cross_validate\n",
    "#Realizamos validacion cruzada para optimizar N factores\n",
    "rmse_test_means = []\n",
    "factores = [1,2,4,8,16,32,64,128,256]\n",
    "\n",
    "for factor in factores:\n",
    "    print(factor)\n",
    "    model = SVD(n_factors=factor)\n",
    "    cv = cross_validate(model, data, measures=['RMSE'], cv = 3, verbose=True)\n",
    "    rmse_test_means.append(np.mean(cv['test_rmse']))"
   ]
  },
  {
   "cell_type": "code",
   "execution_count": 129,
   "metadata": {},
   "outputs": [
    {
     "data": {
      "image/png": "[encoded data removed]",
      "text/plain": [
       "<Figure size 432x288 with 1 Axes>"
      ]
     },
     "metadata": {
      "needs_background": "light"
     },
     "output_type": "display_data"
    }
   ],
   "source": [
    "# Ploteamos desempeño según cantidad de factores de SVD\n",
    "\n",
    "plt.scatter(factores, rmse_test_means)\n",
    "plt.xlabel('Numero de factores')\n",
    "plt.ylabel('Error RMSE')\n",
    "plt.show()"
   ]
  },
  {
   "cell_type": "code",
   "execution_count": 130,
   "metadata": {},
   "outputs": [
    {
     "name": "stderr",
     "output_type": "stream",
     "text": [
      "c:\\Users\\gomez\\AppData\\Local\\Programs\\Python\\Python310\\lib\\site-packages\\joblib\\externals\\loky\\process_executor.py:700: UserWarning: A worker stopped while some jobs were given to the executor. This can be caused by a too short worker timeout or by a memory leak.\n",
      "  warnings.warn(\n"
     ]
    }
   ],
   "source": [
    "from surprise.model_selection import GridSearchCV\n",
    "# Utilizamos gridsearch para optimizar mas los hiperparametros\n",
    "param_grid = {'n_factors': [5,50,100],'n_epochs': [5, 10,20], 'lr_all': [0.001, 0.002, 0.005],\n",
    "              'reg_all': [0.002, 0.02, 0.2]}\n",
    "gs = GridSearchCV(SVD, param_grid, measures=['rmse'], cv=3, n_jobs = -1)\n",
    "gs.fit(data)"
   ]
  },
  {
   "cell_type": "code",
   "execution_count": 131,
   "metadata": {},
   "outputs": [
    {
     "name": "stdout",
     "output_type": "stream",
     "text": [
      "0.9591955534336384\n",
      "{'n_factors': 5, 'n_epochs': 20, 'lr_all': 0.005, 'reg_all': 0.02}\n"
     ]
    }
   ],
   "source": [
    "print(gs.best_score['rmse'])\n",
    "print(gs.best_params['rmse'])"
   ]
  },
  {
   "cell_type": "code",
   "execution_count": 133,
   "metadata": {},
   "outputs": [
    {
     "data": {
      "text/plain": [
       "3935196"
      ]
     },
     "execution_count": 133,
     "metadata": {},
     "output_type": "execute_result"
    }
   ],
   "source": [
    "len(predictions)"
   ]
  },
  {
   "cell_type": "code",
   "execution_count": 138,
   "metadata": {},
   "outputs": [
    {
     "name": "stdout",
     "output_type": "stream",
     "text": [
      "{'rmse': 0.9591955534336384}\n"
     ]
    }
   ],
   "source": [
    "print(gs.best_score)"
   ]
  },
  {
   "cell_type": "code",
   "execution_count": null,
   "metadata": {},
   "outputs": [],
   "source": [
    "# Recopilamos todo para enviar a produccion\n",
    "\n",
    "dump.dump('./dump_SVD',predictions, model)"
   ]
  }
 ],
 "metadata": {
  "kernelspec": {
   "display_name": "Python 3.10.8 64-bit",
   "language": "python",
   "name": "python3"
  },
  "language_info": {
   "codemirror_mode": {
    "name": "ipython",
    "version": 3
   },
   "file_extension": ".py",
   "mimetype": "text/x-python",
   "name": "python",
   "nbconvert_exporter": "python",
   "pygments_lexer": "ipython3",
   "version": "3.10.8"
  },
  "orig_nbformat": 4,
  "vscode": {
   "interpreter": {
    "hash": "73a5200d3fd404ce14db8ffe6e34bc62c01709436f046558d243792d3348dfdb"
   }
  }
 },
 "nbformat": 4,
 "nbformat_minor": 2
}
