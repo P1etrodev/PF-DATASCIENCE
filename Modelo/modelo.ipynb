{
 "cells": [
  {
   "cell_type": "code",
   "execution_count": 1,
   "metadata": {},
   "outputs": [],
   "source": [
    "import pandas as pd\n",
    "import json\n",
    "import gzip\n",
    "import os"
   ]
  },
  {
   "cell_type": "code",
   "execution_count": null,
   "metadata": {},
   "outputs": [],
   "source": [
    "path =\"../../archivos/metadata.json.gz\"\n",
    "import json\n",
    "import gzip\n",
    "def parse(path):\n",
    "#Abrir gzip\n",
    "    g = gzip.open(path, 'r')\n",
    "    for l in g:\n",
    "        yield eval(l)\n",
    "\n",
    "#Convertir a  json estricto\n",
    "def parse(path):\n",
    "    g = gzip.open(path, 'r')\n",
    "    for l in g:\n",
    "        yield json.dumps(eval(l))\n",
    "    f = open(\"output.strict\", 'w')\n",
    "    for l in parse(\"archivos\\metadata.json.gz\"):\n",
    "        f.write(l + '\\n')\n",
    "\n",
    "#Pandas data frame\n",
    "import pandas as pd\n",
    "import gzip\n",
    "def parse(path):\n",
    "    g = gzip.open(path, 'rb')\n",
    "    for l in g:\n",
    "        yield eval(l)\n",
    "def getDF(path):\n",
    "    i = 0\n",
    "    df = {}\n",
    "    for d in parse(path):\n",
    "        df[i] = d\n",
    "        i += 1\n",
    "    return pd.DataFrame.from_dict(df, orient='index')\n",
    "\n",
    "df = getDF('../../archivos/metadata.json.gz')"
   ]
  },
  {
   "cell_type": "code",
   "execution_count": 3,
   "metadata": {},
   "outputs": [],
   "source": [
    "df2= df.drop(columns=['price','title','imUrl','description','brand'],inplace=True)"
   ]
  },
  {
   "cell_type": "code",
   "execution_count": 9,
   "metadata": {},
   "outputs": [],
   "source": [
    "df.to_csv(\"../../archivos_csv/metadata_model.csv\")"
   ]
  },
  {
   "cell_type": "code",
   "execution_count": 15,
   "metadata": {},
   "outputs": [],
   "source": [
    "amazon_instant_video = pd.read_json(\"../../archivos/Amazon_Instant_Video_5.json\", lines=True)\n",
    "apps_for_android = pd.read_json(\"../../archivos/Apps_for_Android_5.json\", lines=True)\n",
    "automotive = pd.read_json(\"../../archivos/Automotive_5.json\", lines=True)\n",
    "baby = pd.read_json(\"../../archivos/Baby_5.json\", lines=True)\n",
    "beauty = pd.read_json(\"../../archivos/Beauty_5.json\", lines=True)\n",
    "books = pd.read_json(\"../../archivos/Books_5.json\", lines=True)\n",
    "cellphones_and_accesories = pd.read_json(\"../../archivos/Cell_Phones_and_Accessories_5.json\", lines=True)\n",
    "cds_and_vinyl = pd.read_json(\"../../archivos/CDs_and_Vinyl_5.json\", lines=True)\n",
    "digital_music = pd.read_json(\"../../archivos/Digital_Music_5.json\", lines=True)\n",
    "electronics = pd.read_json(\"../../archivos/Electronics_5.json\", lines=True)\n",
    "grocery_and_gourmet_food = pd.read_json(\"../../archivos/Grocery_and_Gourmet_Food_5.json\", lines=True)\n",
    "health_and_personal_care = pd.read_json(\"../../archivos/Health_and_Personal_Care_5.json\", lines=True)\n",
    "home_and_kitchen = pd.read_json(\"../../archivos/Home_and_Kitchen_5.json\", lines=True)\n",
    "kindle_store = pd.read_json(\"../../archivos/Kindle_Store_5.json\", lines=True)\n",
    "movies_and_tv = pd.read_json(\"../../archivos/Movies_and_TV_5.json\", lines=True)\n",
    "instruments = pd.read_json(\"../../archivos/Musical_Instruments_5.json\", lines=True)\n",
    "office_products = pd.read_json(\"../../archivos/Office_Products_5.json\", lines=True)\n",
    "patio_lawn_and_garden = pd.read_json(\"../../archivos/Patio_Lawn_and_Garden_5.json\", lines=True)\n",
    "pet_supplies = pd.read_json(\"../../archivos/Pet_Supplies_5.json\", lines=True)\n",
    "sports_and_outdoors = pd.read_json(\"../../archivos/Sports_and_Outdoors_5.json\", lines=True)\n",
    "tools_and_home_improvement = pd.read_json(\"../../archivos/Tools_and_Home_Improvement_5.json\", lines=True)\n",
    "toys_and_games = pd.read_json(\"../../archivos/Toys_and_Games_5.json\", lines=True)\n",
    "clothing_shoes_and_jewerly = pd.read_json(\"../../archivos/Clothing_Shoes_and_Jewelry_5.json\", lines=True)\n",
    "video_Games = pd.read_json(\"../../archivos/Video_Games_5.json\", lines=True)"
   ]
  },
  {
   "cell_type": "code",
   "execution_count": 3,
   "metadata": {},
   "outputs": [],
   "source": [
    "#drop undesired d\n",
    "dropear=['reviewerName','reviewerID','reviewText','summary','unixReviewTime','reviewTime']\n",
    "apps_for_android.drop(dropear, axis=1, inplace=True)\n",
    "automotive.drop(dropear, axis=1, inplace=True)\n",
    "baby.drop(dropear, axis=1, inplace=True)\n",
    "beauty.drop(dropear, axis=1, inplace=True)\n",
    "books.drop(dropear, axis=1, inplace=True)\n",
    "cellphones_and_accesories.drop(dropear, axis=1, inplace=True)\n",
    "cds_and_vinyl.drop(dropear, axis=1, inplace=True)\n",
    "digital_music.drop(dropear, axis=1, inplace=True)\n",
    "electronics.drop(dropear, axis=1, inplace=True)\n",
    "grocery_and_gourmet_food.drop(dropear, axis=1, inplace=True)\n",
    "health_and_personal_care.drop(dropear, axis=1, inplace=True)\n",
    "home_and_kitchen.drop(dropear, axis=1, inplace=True)\n",
    "kindle_store.drop(dropear, axis=1, inplace=True)\n",
    "movies_and_tv.drop(dropear, axis=1, inplace=True)\n",
    "instruments.drop(dropear, axis=1, inplace=True)\n",
    "office_products.drop(dropear, axis=1, inplace=True)\n",
    "patio_lawn_and_garden.drop(dropear, axis=1, inplace=True)\n",
    "pet_supplies.drop(dropear, axis=1, inplace=True)\n",
    "sports_and_outdoors.drop(dropear, axis=1, inplace=True)\n",
    "tools_and_home_improvement.drop(dropear, axis=1, inplace=True)\n",
    "toys_and_games.drop(dropear, axis=1, inplace=True)\n",
    "clothing_shoes_and_jewerly.drop(dropear, axis=1, inplace=True)\n",
    "video_Games.drop(dropear, axis=1, inplace=True)"
   ]
  },
  {
   "cell_type": "code",
   "execution_count": 4,
   "metadata": {},
   "outputs": [],
   "source": [
    "#convert to csv\n",
    "amazon_instant_video.to_csv(\"../../archivos_csv/Amazon_Instant_Video.csv\")\n",
    "apps_for_android.to_csv(\"../../archivos_csv/Apps_for_Android.csv\")\n",
    "automotive.to_csv(\"../../archivos_csv/Automotive.csv\")\n",
    "baby.to_csv(\"../../archivos_csv/Baby.csv\")\n",
    "beauty.to_csv(\"../../archivos_csv/Beauty.csv\")\n",
    "books.to_csv(\"../../archivos_csv/Books.csv\")\n",
    "cellphones_and_accesories.to_csv(\"../../archivos_csv/Cell_Phones_and_Accessories.csv\")\n",
    "cds_and_vinyl.to_csv(\"../../archivos_csv/CDs_and_Vinyl.csv\")\n",
    "digital_music.to_csv(\"../../archivos_csv/Digital_Music.csv\")\n",
    "electronics.to_csv(\"../../archivos_csv/Electronics.csv\")\n",
    "grocery_and_gourmet_food.to_csv(\"../../archivos_csv/Grocery_and_Gourmet_Food.csv\")\n",
    "health_and_personal_care.to_csv(\"../../archivos_csv/Health_and_Personal_Care.csv\")\n",
    "home_and_kitchen.to_csv(\"../../archivos_csv/Home_and_Kitchen.csv\")\n",
    "kindle_store.to_csv(\"../../archivos_csv/Kindle_Store.csv\")\n",
    "movies_and_tv.to_csv(\"../../archivos_csv/Movies_and_TV.csv\")\n",
    "instruments.to_csv(\"../../archivos_csv/Musical_Instruments.csv\")\n",
    "office_products.to_csv(\"../../archivos_csv/Office_Products.csv\")\n",
    "patio_lawn_and_garden.to_csv(\"../../archivos_csv/Patio_Lawn_and_Garden.csv\")\n",
    "pet_supplies.to_csv(\"../../archivos_csv/Pet_Supplies.csv\")\n",
    "sports_and_outdoors.to_csv(\"../../archivos_csv/Sports_and_Outdoors.csv\")\n",
    "tools_and_home_improvement.to_csv(\"../../archivos_csv/Tools_and_Home_Improvement.csv\")\n",
    "toys_and_games.to_csv(\"../../archivos_csv/Toys_and_Games.csv\")\n",
    "clothing_shoes_and_jewerly.to_csv(\"../../archivos_csv/Clothing_Shoes_and_Jewelry.csv\")\n",
    "video_Games.to_csv(\"../../archivos_csv/Video_Games.csv\")"
   ]
  },
  {
   "cell_type": "markdown",
   "metadata": {},
   "source": [
    "El sistema de recomendacion va orientado hacia usuarios nuevos (Inicio en frio). Debido a esto el sistema sera hibrido teniendo en cuenta a usuarios anteriores pero sobretodo considerando la correlacion entre los productos. Algoritmo a probar factorizacion de matriz."
   ]
  },
  {
   "cell_type": "code",
   "execution_count": null,
   "metadata": {},
   "outputs": [],
   "source": [
    "amazon_instant_video = pd.read_csv(\"../../archivos_csv/Amazon_Instant_Video.csv\")\n",
    "apps_for_android = pd.read_csv(\"../../archivos_csv/Apps_for_Android.csv\")\n",
    "automotive = pd.read_csv(\"../../archivos_csv/Automotive.csv\")\n",
    "baby = pd.read_csv(\"../../archivos_csv/Baby.csv\")\n",
    "beauty = pd.read_csv(\"../../archivos_csv/Beauty.csv\")\n",
    "books = pd.read_csv(\"../../archivos_csv/Books.csv\")\n",
    "cellphones_and_accesories = pd.read_csv(\"../../archivos_csv/Cell_Phones_and_Accessories.csv\")\n",
    "cds_and_vinyl = pd.read_csv(\"../../archivos_csv/CDs_and_Vinyl.csv\")\n",
    "digital_music = pd.read_csv(\"../../archivos_csv/Digital_Music.csv\")\n",
    "electronics = pd.read_csv(\"../../archivos_csv/Electronics.csv\")\n",
    "grocery_and_gourmet_food = pd.read_csv(\"../../archivos_csv/Grocery_and_Gourmet_Food.csv\")\n",
    "health_and_personal_care = pd.read_csv(\"../../archivos_csv/Health_and_Personal_Care.csv\")\n",
    "home_and_kitchen = pd.read_csv(\"../../archivos_csv/Home_and_Kitchen.csv\")\n",
    "kindle_store = pd.read_csv(\"../../archivos_csv/Kindle_Store.csv\")\n",
    "movies_and_tv = pd.read_csv(\"../../archivos_csv/Movies_and_TV.csv\")\n",
    "instruments = pd.read_csv(\"../../archivos_csv/Musical_Instruments.csv\")\n",
    "office_products = pd.read_csv(\"../../archivos_csv/Office_Products.csv\")\n",
    "patio_lawn_and_garden = pd.read_csv(\"../../archivos_csv/Patio_Lawn_and_Garden.csv\")\n",
    "pet_supplies = pd.read_csv(\"../../archivos_csv/Pet_Supplies.csv\")\n",
    "sports_and_outdoors = pd.read_csv(\"../../archivos_csv/Sports_and_Outdoors.csv\")\n",
    "tools_and_home_improvement = pd.read_csv(\"../../archivos_csv/Tools_and_Home_Improvement.csv\")\n",
    "toys_and_games = pd.read_csv(\"../../archivos_csv/Toys_and_Games.csv\")\n",
    "clothing_shoes_and_jewerly = pd.read_csv(\"../../archivos_csv/Clothing_Shoes_and_Jewelry.csv\")\n",
    "video_Games = pd.read_csv(\"../../archivos_csv/Video_Games.csv\")\n",
    "metadata = pd.read_csv(\"../../archivos_csv/metadata.csv\")"
   ]
  },
  {
   "cell_type": "code",
   "execution_count": 8,
   "metadata": {},
   "outputs": [],
   "source": [
    "metadata = pd.read_csv(\"../../archivos_csv/metadata_model.csv\")"
   ]
  },
  {
   "cell_type": "code",
   "execution_count": 9,
   "metadata": {},
   "outputs": [
    {
     "data": {
      "text/html": [
       "<div>\n",
       "<style scoped>\n",
       "    .dataframe tbody tr th:only-of-type {\n",
       "        vertical-align: middle;\n",
       "    }\n",
       "\n",
       "    .dataframe tbody tr th {\n",
       "        vertical-align: top;\n",
       "    }\n",
       "\n",
       "    .dataframe thead th {\n",
       "        text-align: right;\n",
       "    }\n",
       "</style>\n",
       "<table border=\"1\" class=\"dataframe\">\n",
       "  <thead>\n",
       "    <tr style=\"text-align: right;\">\n",
       "      <th></th>\n",
       "      <th>asin</th>\n",
       "      <th>helpful</th>\n",
       "      <th>overall</th>\n",
       "    </tr>\n",
       "  </thead>\n",
       "  <tbody>\n",
       "    <tr>\n",
       "      <th>0</th>\n",
       "      <td>0005019281</td>\n",
       "      <td>[0, 0]</td>\n",
       "      <td>4</td>\n",
       "    </tr>\n",
       "    <tr>\n",
       "      <th>1</th>\n",
       "      <td>0005019281</td>\n",
       "      <td>[0, 0]</td>\n",
       "      <td>3</td>\n",
       "    </tr>\n",
       "    <tr>\n",
       "      <th>2</th>\n",
       "      <td>0005019281</td>\n",
       "      <td>[0, 0]</td>\n",
       "      <td>3</td>\n",
       "    </tr>\n",
       "  </tbody>\n",
       "</table>\n",
       "</div>"
      ],
      "text/plain": [
       "         asin helpful  overall\n",
       "0  0005019281  [0, 0]        4\n",
       "1  0005019281  [0, 0]        3\n",
       "2  0005019281  [0, 0]        3"
      ]
     },
     "execution_count": 9,
     "metadata": {},
     "output_type": "execute_result"
    }
   ],
   "source": [
    "movies_and_tv.head(3)"
   ]
  },
  {
   "cell_type": "code",
   "execution_count": 96,
   "metadata": {},
   "outputs": [],
   "source": [
    "import pandas as pd\n",
    "from ast import literal_eval\n",
    "import numpy as np\n",
    "\n",
    "\n",
    "# check the type of the first value in Pollutants\n",
    ">>> print(type(df.iloc[0, 1]))\n",
    "<class 'str'>\n",
    "\n",
    "# replace NaN with '{}' if the column is strings, otherwise replace with {}\n",
    "df.Pollutants = df.Pollutants.fillna('{}')  # if the NaN is in a column of strings\n",
    "# df.Pollutants = df.Pollutants.fillna({i: {} for i in df.index})  # if the column is not strings\n",
    "\n",
    "# Convert the column of stringified dicts to dicts\n",
    "# skip this line, if the column contains dicts\n",
    "df.Pollutants = df.Pollutants.apply(literal_eval)\n",
    "\n",
    "# reset the index if the index is not unique integers from 0 to n-1\n",
    "# df.reset_index(inplace=True)  # uncomment if needed\n",
    "\n",
    "# remove and normalize the column of dictionaries, and join the result to df\n",
    "df = df.join(pd.json_normalize(df.pop('Pollutants')))\n",
    "\n",
    "# display(df)\n",
    "   Station ID    a    b    c\n",
    "0        8809   46    3   12\n",
    "1        8810   36    5    8\n",
    "2        8811  NaN    2    7\n",
    "3        8812  NaN  NaN   11\n",
    "4        8813   82  NaN   15\n",
    "5        8814  NaN  NaN  NaN"
   ]
  },
  {
   "cell_type": "code",
   "execution_count": 11,
   "metadata": {},
   "outputs": [],
   "source": [
    "amazon_instant_video.head(3).to_csv(\"../../archivos_no_data/Amazon_Instant_Video.csv\")\n",
    "apps_for_android.head(3).to_csv(\"../../archivos_no_data/Apps_for_Android.csv\")\n",
    "automotive.head(3).to_csv(\"../../archivos_no_data/Automotive.csv\")\n",
    "baby.head(3).to_csv(\"../../archivos_no_data/Baby.csv\")\n",
    "beauty.head(3).to_csv(\"../../archivos_no_data/Beauty.csv\")\n",
    "books.head(3).to_csv(\"../../archivos_no_data/Books.csv\")\n",
    "cellphones_and_accesories.head(3).to_csv(\"../../archivos_no_data/Cell_Phones_and_Accessories.csv\")\n",
    "cds_and_vinyl.head(3).to_csv(\"../../archivos_no_data/CDs_and_Vinyl.csv\")\n",
    "digital_music.head(3).to_csv(\"../../archivos_no_data/Digital_Music.csv\")\n",
    "electronics.head(3).to_csv(\"../../archivos_no_data/Electronics.csv\")\n",
    "grocery_and_gourmet_food.head(3).to_csv(\"../../archivos_no_data/Grocery_and_Gourmet_Food.csv\")\n",
    "health_and_personal_care.head(3).to_csv(\"../../archivos_no_data/Health_and_Personal_Care.csv\")\n",
    "home_and_kitchen.head(3).to_csv(\"../../archivos_no_data/Home_and_Kitchen.csv\")\n",
    "kindle_store.head(3).to_csv(\"../../archivos_no_data/Kindle_Store.csv\")\n",
    "movies_and_tv.head(3).to_csv(\"../../archivos_no_data/Movies_and_TV.csv\")\n",
    "instruments.head(3).to_csv(\"../../archivos_no_data/Musical_Instruments.csv\")\n",
    "office_products.head(3).to_csv(\"../../archivos_no_data/Office_Products.csv\")\n",
    "patio_lawn_and_garden.head(3).to_csv(\"../../archivos_no_data/Patio_Lawn_and_Garden.csv\")\n",
    "pet_supplies.head(3).to_csv(\"../../archivos_no_data/Pet_Supplies.csv\")\n",
    "sports_and_outdoors.head(3).to_csv(\"../../archivos_no_data/Sports_and_Outdoors.csv\")\n",
    "tools_and_home_improvement.head(3).to_csv(\"../../archivos_no_data/Tools_and_Home_Improvement.csv\")\n",
    "toys_and_games.head(3).to_csv(\"../../archivos_no_data/Toys_and_Games.csv\")\n",
    "clothing_shoes_and_jewerly.head(3).to_csv(\"../../archivos_no_data/Clothing_Shoes_and_Jewelry.csv\")\n",
    "video_Games.head(3).to_csv(\"../../archivos_no_data/Video_Games.csv\")\n",
    "metadata.head(3).to_csv(\"../../archivos_no_data/metadata_model.csv\")"
   ]
  }
 ],
 "metadata": {
  "kernelspec": {
   "display_name": "Python 3.8.2 64-bit",
   "language": "python",
   "name": "python3"
  },
  "language_info": {
   "codemirror_mode": {
    "name": "ipython",
    "version": 3
   },
   "file_extension": ".py",
   "mimetype": "text/x-python",
   "name": "python",
   "nbconvert_exporter": "python",
   "pygments_lexer": "ipython3",
   "version": "3.8.2"
  },
  "orig_nbformat": 4,
  "vscode": {
   "interpreter": {
    "hash": "570feb405e2e27c949193ac68f46852414290d515b0ba6e5d90d076ed2284471"
   }
  }
 },
 "nbformat": 4,
 "nbformat_minor": 2
}
