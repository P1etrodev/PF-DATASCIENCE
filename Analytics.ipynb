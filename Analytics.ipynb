{
 "cells": [
  {
   "cell_type": "code",
   "execution_count": null,
   "metadata": {},
   "outputs": [],
   "source": [
    "#KPI y Dashboard"
   ]
  },
  {
   "cell_type": "code",
   "execution_count": null,
   "metadata": {},
   "outputs": [],
   "source": [
    "#KPI:\n",
    "#Para medir el éxito de este proyecto, hemos definido KPIs que son Indicadores Claves de Rendimiento ,Key Performance Indicators,por sus siglas en ingles.   \n",
    "#Para que un KPI funcione como debe, este tiene que cumplir con las siguientes características:\n",
    "#Alcanzable: Los objetivos planteados deben de ser realistas.\n",
    "#Medible: Un KPI debe poder medirse.\n",
    "#Relevante: Se deben seleccionar solo los datos más importantes.\n",
    "#Periódico: El indicador tiene que ser analizable periódicamente.\n",
    "#Exacto: Debemos elegir solo la parte más precisa de toda la información recabada.\n",
    "\n",
    "#La utilidad del KPI es poder ver, de forma medible y cuantificable, el grado de cumplimiento de los objetivos en un aspecto concreto de la actividad de la empresa, con lo que podremos compararlo con otros periodos y con otros objetivos de manera medible.\n",
    "#Proponemos que todos los KPIs se midan mensualmente. El seguimiento se realizará por medio del Dashboard."
   ]
  },
  {
   "cell_type": "code",
   "execution_count": null,
   "metadata": {},
   "outputs": [],
   "source": [
    "#El dashboard está desarrollado en Power Bi y se actualiza de forma automática. Esta es la herramienta donde los usuarios interesados podrán visualizar, seguir y analizar datos.\n",
    "#El  dashboard lo realizamos teniendo como guía los objetivos del cliente, recogiendo las métricas que les interesan, esto les permitirá realizar valoraciones útiles o bien cambiar estrategias y tomar decisiones claves de negocio.\n",
    "#Los ayudará a pasar de la información a la acción resaltando los logros y las metas alcanzadas, y detectando los fallos y errores, identificando cuáles son aquellos indicadores que están rindiendo por debajo de lo proyectado.\n",
    "#En base a los datos que recibimos de parte de nuestro cliente de reseñas y metadata histórica de 24 categorías de productos , confeccionamos inicialmente un mock up (esquema) y luego el Dashboard definitivo. \n",
    "#El mismo contiene los indicadores que podrán analizar  para tomar decisiones oportunas para su negocio. "
   ]
  },
  {
   "cell_type": "code",
   "execution_count": null,
   "metadata": {},
   "outputs": [],
   "source": [
    "![Dashboard](https://ibb.co/LZSvJxC)"
   ]
  },
  {
   "cell_type": "code",
   "execution_count": null,
   "metadata": {},
   "outputs": [],
   "source": [
    "#En la parte superior izquierda se puede seleccionar el rango de fechas y  la categoría de interés. Por ejemplo indicamos por medio del calendario el día , mes y año desde 15/11/1996 hasta el 12/07/2014 para la categoría Office Products.\n",
    "![Dashboard](https://ibb.co/4PdB6Rd)"
   ]
  },
  {
   "cell_type": "code",
   "execution_count": null,
   "metadata": {},
   "outputs": [],
   "source": [
    "#Una vez elegida la categoría y el rango de fechas, el tablero nos muestra el top 10 de productos con mayor y menor cantidad de recomendaciones, tanto positivas como negativas. \n",
    "#Esto indica los productos cuyas estrategias de venta deberían ser revisadas, ya sea porque puedan tomarse como referencia o bien tengan que redefinirse según el caso. \n",
    "![Dashboard](https://ibb.co/859GkKD)"
   ]
  },
  {
   "cell_type": "code",
   "execution_count": null,
   "metadata": {},
   "outputs": [],
   "source": [
    "#Arriba a la derecha tenemos la cantidad máxima de ventas del período , que fue de 7.9 millones.\n",
    "![Dashboard](https://ibb.co/q1ChYXm)"
   ]
  },
  {
   "cell_type": "code",
   "execution_count": null,
   "metadata": {},
   "outputs": [],
   "source": [
    "#En la parte inferior izquierda se muestra  el promedio y la mediana de los puntajes otorgados por los compradores. \n",
    "#El rango de los puntajes se encuentra entre 1 y 5, el indicador está semaforizado con un objetivo de entre 4 y 5. Valores de puntajes menores a 2 activarán una alarma, con color rojo. En este caso tenemos un promedio de 4,35 y una mediana de 5, por lo que se encuentra en color verde.\n",
    "![Dashboard](https://ibb.co/tDzBWJM)"
   ]
  },
  {
   "cell_type": "code",
   "execution_count": null,
   "metadata": {},
   "outputs": [],
   "source": [
    "#A partir del gráfico señalado en la imagen a continuación es posible evaluar la evolución en el tiempo del puntaje otorgado por los clientes a la categoría de producto indicada. Las tendencias marcarán puntos que permitirán analizar el contexto y las acciones que favorecen o desfavorecen unas ventas determinadas.\n",
    "![Dashboard](https://ibb.co/wg5L7n9)"
   ]
  },
  {
   "cell_type": "code",
   "execution_count": null,
   "metadata": {},
   "outputs": [],
   "source": [
    "#En la parte inferior derecha podemos observar además también para esta categoría y período el top 3 de productos con mayor puntaje.\n",
    "![Dashboard](https://ibb.co/g3ZfVKG)"
   ]
  },
  {
   "cell_type": "code",
   "execution_count": null,
   "metadata": {},
   "outputs": [],
   "source": [
    "#Una ventaja de haberlo desarrollado en Power Bi es que el tablero se puede subir a la web y a través de un link, que dejamos a continuación,  diferentes usuarios pueden acceder a la información, y hacer las consultas que precisen. \n",
    "[Link](https://app.powerbi.com/groups/e2d73726-c87b-4fdd-b9ed-417569d0b02a/reports/f302ccb7-9402-499f-b4ef-a031daaafebf/ReportSection)"
   ]
  }
 ],
 "metadata": {
  "kernelspec": {
   "display_name": "Python 3.10.2 64-bit",
   "language": "python",
   "name": "python3"
  },
  "language_info": {
   "name": "python",
   "version": "3.10.2"
  },
  "orig_nbformat": 4,
  "vscode": {
   "interpreter": {
    "hash": "cd11abd7c5feafb0f34e43f8a96f92a01edf1712f8eb7631270cfb7ccac7f44f"
   }
  }
 },
 "nbformat": 4,
 "nbformat_minor": 2
}
