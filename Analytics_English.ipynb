{
 "cells": [
  {
   "cell_type": "code",
   "execution_count": null,
   "metadata": {},
   "outputs": [],
   "source": [
    "#KPI and Dashboard"
   ]
  },
  {
   "cell_type": "code",
   "execution_count": null,
   "metadata": {},
   "outputs": [],
   "source": [
    "#KPIs:\n",
    "#To measure the success of this project, we have defined KPIs which are Key Performance Indicators.\n",
    "#For a KPI to work as it should, it must meet the following characteristics:\n",
    "#Achievable: The objectives set must be realistic.\n",
    "#Measurable: A KPI must be measurable.\n",
    "#Relevant: Only the most important data should be selected.\n",
    "#Periodic: The indicator must be analyzed periodically.\n",
    "#Exact: We must choose only the most accurate part of all the information collected.\n",
    "\n",
    "#The usefulness of the KPI is to be able to see, in a measurable and quantifiable way, the degree of compliance with the objectives in a specific aspect of the company's activity, with which we can compare it with other periods and with other objectives in a measurable way.\n",
    "#We propose that all KPIs be measured monthly. Monitoring will be done through the Dashboard."
   ]
  },
  {
   "cell_type": "code",
   "execution_count": null,
   "metadata": {},
   "outputs": [],
   "source": [
    "#The dashboard is developed in Power Bi and is updated automatically. This is the tool where interested users can view, track and analyze data.\n",
    "#The dashboard is made with the client's objectives as a guide, collecting the metrics that interest them, this will allow them to make useful assessments or change strategies and make key business decisions.\n",
    "#It will help them move from information to action, highlighting the achievements and goals achieved, and detecting failures and errors, identifying which are those indicators that are performing below projections.\n",
    "#Based on the data we received from our client of reviews and historical metadata of 24 product categories, we initially made a mock up (scheme) and then the final Dashboard.\n",
    "#It contains the indicators that you can analyze to make timely decisions for your business.\n"
   ]
  },
  {
   "cell_type": "code",
   "execution_count": null,
   "metadata": {},
   "outputs": [],
   "source": [
    "![Dashboard](https://ibb.co/jgwgNGG)"
   ]
  },
  {
   "cell_type": "code",
   "execution_count": 1,
   "metadata": {},
   "outputs": [],
   "source": [
    "#In the upper left part you can select the date range and the category of interest. For example, we indicate through the calendar the day, month and year from 11/15/1996 to 07/12/2014 for the Office Products category.\n",
    "![Dashboard](https://ibb.co/sF04BVH)"
   ]
  },
  {
   "cell_type": "code",
   "execution_count": null,
   "metadata": {},
   "outputs": [],
   "source": [
    "#Once the category and date range have been chosen, the dashboard shows us the top 10 products with the highest and lowest number of recommendations, both positive and negative.\n",
    "#This indicates the products whose sales strategies should be reviewed, either because they can be taken as a reference or have to be redefined depending on the case.\n",
    "![Dashboard](https://ibb.co/PtqhSkN)"
   ]
  },
  {
   "cell_type": "code",
   "execution_count": null,
   "metadata": {},
   "outputs": [],
   "source": [
    "#At the top right we have the maximum number of sales for the period, which was 7.9 million.\n",
    "![Dashboard](https://ibb.co/xX7srTm)"
   ]
  },
  {
   "cell_type": "code",
   "execution_count": null,
   "metadata": {},
   "outputs": [],
   "source": [
    "#In the lower left part, the average and median of the scores given by the buyers are shown.\n",
    "#The range of scores is between 1 and 5, the indicator is signalized with a target between 4 and 5. Score values ​​less than 2 will activate an alarm, with a red color. In this case we have an average of 4.35 and a median of 5, so it is in green.\n",
    "![Dashboard](https://ibb.co/JxKqTrp)"
   ]
  },
  {
   "cell_type": "code",
   "execution_count": null,
   "metadata": {},
   "outputs": [],
   "source": [
    "#Based on the graph indicated in the image below, it is possible to evaluate the evolution over time of the score given by customers to the indicated product category. The trends will mark points that will make it possible to analyze the context and the actions that favor or discourage certain sales.\n",
    "![Dashboard](https://ibb.co/br3nKFm)"
   ]
  },
  {
   "cell_type": "code",
   "execution_count": null,
   "metadata": {},
   "outputs": [],
   "source": [
    "#In the lower right part we can also see the top 3 products with the highest score for this category and period.\n",
    "![Dashboard](https://ibb.co/hBFDchV)"
   ]
  },
  {
   "cell_type": "code",
   "execution_count": null,
   "metadata": {},
   "outputs": [],
   "source": [
    "#An advantage of having developed it in Power Bi is that the dashboard can be uploaded to the web and through a link, which we leave below, different users can access the information, and make the queries they need.\n",
    "[Link](https://app.powerbi.com/groups/e0d1191e-d8ba-4b27-8d4e-31f57898e5e0/reports/41fb45fb-a823-4902-be6e-e8b08eb6a008/ReportSection)"
   ]
  }
 ],
 "metadata": {
  "kernelspec": {
   "display_name": "Python 3.10.2 64-bit",
   "language": "python",
   "name": "python3"
  },
  "language_info": {
   "codemirror_mode": {
    "name": "ipython",
    "version": 3
   },
   "file_extension": ".py",
   "mimetype": "text/x-python",
   "name": "python",
   "nbconvert_exporter": "python",
   "pygments_lexer": "ipython3",
   "version": "3.10.2"
  },
  "orig_nbformat": 4,
  "vscode": {
   "interpreter": {
    "hash": "cd11abd7c5feafb0f34e43f8a96f92a01edf1712f8eb7631270cfb7ccac7f44f"
   }
  }
 },
 "nbformat": 4,
 "nbformat_minor": 2
}
